{
 "cells": [
  {
   "cell_type": "code",
   "execution_count": 2,
   "metadata": {
    "collapsed": false,
    "jupyter": {
     "outputs_hidden": false
    }
   },
   "outputs": [],
   "source": [
    "import geopandas\n",
    "import geoplot\n",
    "import pandas as pd\n",
    "from shapely.geometry import LineString, Point, Polygon\n",
    "from shapely.geometry import LineString, Point\n",
    "\n",
    "world = geopandas.read_file(\n",
    "    geopandas.datasets.get_path('naturalearth_lowres')\n",
    ")"
   ]
  },
  {
   "cell_type": "code",
   "execution_count": 3,
   "metadata": {},
   "outputs": [],
   "source": [
    "a = geopandas.read_file('D:\\DS\\COVID-19\\gadm36_BHR_shp\\gadm36_BHR_0.shp') #BHR\n",
    "b = geopandas.read_file('D:\\DS\\COVID-19\\gadm36_GUF_shp\\gadm36_GUF_0.shp') #French Guinea\n",
    "c = geopandas.read_file('D:\\DS\\COVID-19\\gadm36_GLP_shp\\gadm36_GLP_0.shp') #Guadeloupe\n",
    "d = geopandas.read_file('D:\\DS\\COVID-19\\gadm36_SGP_shp\\gadm36_SGP_0.shp') #Singapore\n",
    "e = geopandas.read_file('D:\\DS\\COVID-19\\gadm36_MDV_shp\\gadm36_MDV_0.shp') #Maldives\n",
    "f = geopandas.read_file('D:\\DS\\COVID-19\\gadm36_MLT_shp\\gadm36_MLT_0.shp') #Malta\n",
    "g = geopandas.read_file('D:\\DS\\COVID-19\\gadm36_MCO_shp\\gadm36_MCO_0.shp') #Monaco\n",
    "h = geopandas.read_file('D:\\DS\\COVID-19\\gadm36_LIE_shp\\gadm36_LIE_0.shp') #Liechtenstein\n",
    "i = geopandas.read_file('D:\\DS\\COVID-19\\gadm36_SMR_shp\\gadm36_SMR_0.shp') #Liechtenstein\n",
    "j = geopandas.read_file('D:\\DS\\COVID-19\\gadm36_REU_shp\\gadm36_REU_0.shp') #Reunion"
   ]
  },
  {
   "cell_type": "code",
   "execution_count": 14,
   "metadata": {},
   "outputs": [],
   "source": [
    "world = world.append(pd.Series([1493000, \"Asia\", 'Bahrain', 'BHR', 21810, a['geometry'][0]], index=world.columns ), ignore_index=True)\n",
    "\n",
    "world = world.append(pd.Series([3700, \"Asia\", 'Cruise Ship', 'CRUS', 99, Polygon([(35.4437, 139.638), (35.4438, 139.637), (35.4439, 139.636)])], index=world.columns ), ignore_index=True)\n",
    "\n",
    "world = world.append(pd.Series([290691, \"South America\", 'French Guiana', 'FRGF', 18300, b['geometry'][0]], index=world.columns ), ignore_index=True)\n",
    "\n",
    "world = world.append(pd.Series([395700, \"North America\", 'Guadeloupe', 'FRGP', 25479, c['geometry'][0]], index=world.columns ), ignore_index=True)\n",
    "\n",
    "world = world.append(pd.Series([5638700, \"Asia\", 'Singapore', 'SG', 65627, d['geometry'][0]], index=world.columns ), ignore_index=True)\n",
    "\n",
    "world = world.append(pd.Series([392473, \"Asia\", 'Maldives', 'MV', 15463, e['geometry'][0]], index=world.columns ), ignore_index=True)\n",
    "\n",
    "world = world.append(pd.Series([493559, \"Europe\", 'Malta', 'SG', 32021, f['geometry'][0]], index=world.columns ), ignore_index=True)\n",
    "\n",
    "world = world.append(pd.Series([38300, \"Europe\", 'Monaco', 'MC', 185741, g['geometry'][0]], index=world.columns ), ignore_index=True)\n",
    "\n",
    "world = world.append(pd.Series([38557, \"Europe\", 'Liechtenstein', 'LC', 98432, h['geometry'][0]], index=world.columns ), ignore_index=True)\n",
    "\n",
    "world = world.append(pd.Series([33344, \"Europe\", 'San Marino', 'SM', 44947, i['geometry'][0]], index=world.columns ), ignore_index=True)\n",
    "\n",
    "world = world.append(pd.Series([859959, \"Africa\", 'Reunion', 'RE', 25900, j['geometry'][0]], index=world.columns ), ignore_index=True)"
   ]
  },
  {
   "cell_type": "code",
   "execution_count": 16,
   "metadata": {},
   "outputs": [],
   "source": [
    "covdata = pd.read_csv('your file path') #Data"
   ]
  },
  {
   "cell_type": "code",
   "execution_count": 20,
   "metadata": {},
   "outputs": [],
   "source": [
    "world['pop_est'] = world['pop_est'].astype(int)"
   ]
  },
  {
   "cell_type": "code",
   "execution_count": 22,
   "metadata": {},
   "outputs": [],
   "source": [
    "covdata['before'] = 0\n",
    "covdata['confirmed_today'] = 0\n",
    "tmp_count_prev = 0\n",
    "count = 0\n",
    "for x in covdata['Date'].unique():\n",
    "    count = count + 1\n",
    "    tmp = covdata[covdata['Date']==x]\n",
    "    tmp_count = tmp.groupby(['Country/Region'])['Confirmed'].sum()\n",
    "    tmp_count_copy = tmp_count.copy()\n",
    "    tmp_count = tmp_count - tmp_count_prev\n",
    "    tmp_count_prev = tmp_count_copy\n",
    "    for y in tmp_count.index:\n",
    "        covdata.loc[(covdata['Date'] == x) & (covdata['Country/Region'] == y), 'confirmed_today'] = tmp_count[y]"
   ]
  },
  {
   "cell_type": "code",
   "execution_count": 24,
   "metadata": {},
   "outputs": [],
   "source": [
    "tmp_count = covdata.groupby(['Country/Region'])['confirmed_today'].max()\n",
    "\n",
    "for y in tmp_count_prev.index:\n",
    "    world.loc[(world['name'] == y), 'world_count'] = tmp_count_prev[y]\n",
    "    \n",
    "world['world_count'] = world['world_count'].fillna(0)"
   ]
  },
  {
   "cell_type": "code",
   "execution_count": 25,
   "metadata": {},
   "outputs": [
    {
     "data": {
      "text/plain": [
       "Percentiles                 \n",
       "\n",
       "      Interval         Count\n",
       "----------------------------\n",
       "[    0.00,     0.00] |    69\n",
       "(    0.00,     0.00] |     0\n",
       "(    0.00,     5.00] |    30\n",
       "(    5.00,    81.20] |    51\n",
       "(   81.20,   932.30] |    28\n",
       "(  932.30,  5946.22] |     6\n",
       "( 5946.22, 12182.48] |     2\n",
       "(12182.48, 21773.52] |     1\n",
       "(21773.52, 80945.00] |     1"
      ]
     },
     "execution_count": 25,
     "metadata": {},
     "output_type": "execute_result"
    }
   ],
   "source": [
    "import mapclassify\n",
    "scheme = mapclassify.Percentiles(world['world_count'], pct=[1, 20, 50, 80, 95, 98, 99,  99.5, 100])# scheme.bins\n",
    "scheme"
   ]
  },
  {
   "cell_type": "code",
   "execution_count": 26,
   "metadata": {},
   "outputs": [],
   "source": [
    "import numpy as np\n",
    "sort_lat_long = [x for x in zip(covdata.Long, covdata.Lat)]\n",
    "sort_lat_long.sort()\n",
    "def closest(x,y):\n",
    "    inp_dist = [(x,y) for z in range(len(sort_lat_long))]\n",
    "    diff = [sum((a-b)**2) for a, b in zip(np.array(inp_dist), np.array(sort_lat_long))]\n",
    "    return sort_lat_long[diff.index(min(diff))]"
   ]
  },
  {
   "cell_type": "code",
   "execution_count": 1,
   "metadata": {},
   "outputs": [],
   "source": [
    "import geoplot.crs as gcrs\n",
    "import matplotlib.animation as animation\n",
    "import matplotlib.pyplot as plt\n",
    "fig = plt.figure()\n",
    "count = 0 \n",
    "ims = []\n",
    "ims1 = []\n",
    "prev_geo = 0\n",
    "for x in covdata['Date'].unique():\n",
    "    count = count + 1\n",
    "    if (count > 100):\n",
    "        break\n",
    "    if (count <= 100):\n",
    "        tmp = (covdata[covdata['Date'] == (x)]).copy()\n",
    "        tot = tmp['confirmed_today'].sum()\n",
    "        world['name_count'] = world['name'].apply(lambda y: tmp[tmp['Country/Region']==y]['Confirmed'].sum())\n",
    "        world['name_count'] = world['name_count'].fillna(0)\n",
    "        tmp['name_count'] = tmp['Country/Region'].apply(lambda z: tmp[tmp['Country/Region']==z]['confirmed_today'].sum())\n",
    "        tmp['name_count'] = tmp['name_count'].fillna(0)\n",
    "        tmp['rate'] = tmp['name_count'] / tot\n",
    "        tmp['rate'] = tmp['rate'].fillna(0)\n",
    "        ai = geoplot.choropleth(\n",
    "            world, hue=world['name_count'] , scheme=scheme,\n",
    "            cmap='Reds', figsize=(8, 4), legend=True, legend_kwargs={'loc': 'lower left', 'fontsize' : 'xx-small'}, legend_labels=[ \n",
    "                '$\\mathregular{1^{st}}$ Percentile', '$\\mathregular{20^{th}}$  Percentile', '$\\mathregular{50^{th}}$ Percentile', \n",
    "                '$\\mathregular{80^{th}}$ Percentile', '$\\mathregular{95^{th}}$ Percentile', '$\\mathregular{98^{th}}$ Percentile', \n",
    "                '$\\mathregular{99^{th}}$ Percentile','$\\mathregular{99.5^{th}}$ Percentile', '$\\mathregular{100^{th}}$ Percentile']\n",
    "        )\n",
    "        \n",
    "        ai.set_title('Date: '+ x, pad = 1.5, fontsize = 8, color='blue')\n",
    "        tmp1 = tmp[tmp['Confirmed']!=0].copy()\n",
    "        atmp = pd.concat([tmp1.groupby(['Country/Region'])['Lat', 'Long'].mean(), tmp1.groupby(['Country/Region'])['rate'].mean()], axis = 1)\n",
    "        atmp['centroid_lat'] = atmp['Lat']*atmp['rate']\n",
    "        atmp['centroid_long'] = atmp['Long']*atmp['rate']\n",
    "        ap = Point(closest(atmp['centroid_long'].sum(),atmp['centroid_lat'].sum()))\n",
    "        \n",
    "        if(isinstance(prev_geo, int)):\n",
    "            df1 = pd.DataFrame({'geometry': [ap]})\n",
    "            df1['geom_1'] = df1['geometry']\n",
    "        if(not isinstance(prev_geo, int)):\n",
    "            df1 = df1.append(pd.Series([ap, prev_geo], index=df1.columns), ignore_index=True)\n",
    "            \n",
    "        gdf1 = geopandas.GeoDataFrame(df1.copy())\n",
    "        \n",
    "        gdf1.plot(ax=ai, color='black', markersize=10,zorder=2)\n",
    "       \n",
    "        prev_geo = ap\n",
    "        \n",
    "        lin = [(xy) for xy in zip((gdf1.geometry), (gdf1.geom_1))]\n",
    "        lins = [LineString(x) for x in lin]\n",
    "        \n",
    "        gdf = geopandas.GeoDataFrame(gdf1, geometry=lins)\n",
    "        gdf.plot(ax=ai, color='blue',linewidths=1.25,linestyles='dashed')"
   ]
  }
 ],
 "metadata": {
  "kernelspec": {
   "display_name": "cogeo",
   "language": "python",
   "name": "cogeo"
  },
  "language_info": {
   "codemirror_mode": {
    "name": "ipython",
    "version": 3
   },
   "file_extension": ".py",
   "mimetype": "text/x-python",
   "name": "python",
   "nbconvert_exporter": "python",
   "pygments_lexer": "ipython3",
   "version": "3.8.2"
  }
 },
 "nbformat": 4,
 "nbformat_minor": 4
}
